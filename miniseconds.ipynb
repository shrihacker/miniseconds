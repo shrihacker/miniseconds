{
 "cells": [
  {
   "cell_type": "markdown",
   "id": "e1a79e23-d530-41da-9e49-3d381d510856",
   "metadata": {},
   "source": [
    "# Imports & Globals"
   ]
  },
  {
   "cell_type": "code",
   "execution_count": 94,
   "id": "0fb33e35-9c9c-4a9b-9699-52ca585a304d",
   "metadata": {},
   "outputs": [],
   "source": [
    "import os\n",
    "import replicate\n",
    "import string\n",
    "import random\n",
    "import json\n",
    "import instructor\n",
    "from pytube import YouTube\n",
    "from typing_extensions import Annotated\n",
    "from typing import List, Optional, Dict\n",
    "from pydantic import Field, BaseModel, AfterValidator\n",
    "from google.cloud import storage\n",
    "from openai import OpenAI\n",
    "from dotenv import load_dotenv\n",
    "from nltk import tokenize\n",
    "\n",
    "# Set your environment variables. see .env.example\n",
    "load_dotenv() \n",
    "client = storage.Client()\n",
    "o_client = instructor.patch(OpenAI())\n",
    "data_dir = \"data\""
   ]
  },
  {
   "cell_type": "markdown",
   "id": "a587d7a9-9858-4137-8e12-0a9194f2519d",
   "metadata": {},
   "source": [
    "# Functions"
   ]
  },
  {
   "cell_type": "code",
   "execution_count": 82,
   "id": "e15e591d-b749-48ee-b96b-5e780cafef97",
   "metadata": {},
   "outputs": [],
   "source": [
    "alphabet = string.ascii_lowercase + string.digits\n",
    "def random_choice():\n",
    "    '''\n",
    "    Return a 8 letter random string\n",
    "    '''\n",
    "    return ''.join(random.choices(alphabet, k=8))"
   ]
  },
  {
   "cell_type": "code",
   "execution_count": 83,
   "id": "2633e96b-032c-43c4-9d12-e5c44c6af23a",
   "metadata": {},
   "outputs": [],
   "source": [
    "def upload_to_bucket(blob_name, file_path):\n",
    "    '''\n",
    "    Upload a file to Google Cloud Storage\n",
    "        Input: blob_name: String, name of Blob on GCS\n",
    "               file_path: String, path to local file to upload\n",
    "        Output: public URL: String, of the uploaded blob\n",
    "    '''\n",
    "    bucket = client.get_bucket(os.getenv('GCS_BUCKET'))\n",
    "    blob = bucket.blob(blob_name)\n",
    "    blob.upload_from_filename(file_path)\n",
    "    return blob.public_url"
   ]
  },
  {
   "cell_type": "code",
   "execution_count": 84,
   "id": "68bc05a8-bf1b-4d4a-adf5-8540626bb3f5",
   "metadata": {},
   "outputs": [],
   "source": [
    "def get_transcript(url, fname):\n",
    "    '''\n",
    "    Replicate Deployment call to fetch transcript.\n",
    "    Writes out the transcript JSON and text to files\n",
    "        Input: url: String, of the uploaded blob\n",
    "               fname: String, filename to write out JSON and text files\n",
    "        Output: out: dictionary, output of transcript call with timestamps\n",
    "                concatenated_text: String, full transcript text\n",
    "    '''\n",
    "    out = replicate.run(\n",
    "    \"daanelson/whisperx:9aa6ecadd30610b81119fc1b6807302fd18ca6cbb39b3216f430dcf23618cedd\",\n",
    "    input={\"audio\": url, \"batch_size\": 16, \"align_output\": True}\n",
    "    )\n",
    "\n",
    "    # Write out the JSON transcript\n",
    "    fp = open(f\"{data_dir}/{fname}.json\", \"w\")\n",
    "    fp.write(json.dumps(out))\n",
    "\n",
    "    # Write out the text transcript\n",
    "    concatenated_text = \" \".join(item['text'] for item in out)\n",
    "    fp = open(f\"{data_dir}/{fname}.txt\", \"w\")\n",
    "    fp.write(concatenated_text)\n",
    "\n",
    "    return out, concatenated_text"
   ]
  },
  {
   "cell_type": "code",
   "execution_count": 85,
   "id": "90c2b878-0be3-40ac-a642-5854ff97c7a4",
   "metadata": {},
   "outputs": [],
   "source": [
    "def get_youtube(yt_link, fname):\n",
    "    '''\n",
    "    Download a Youtube Video and write out a unique mp4 and mp3 file\n",
    "    Input: yt_link: String, URL of youtube video\n",
    "               fname: String, filename to write out Audio and Video files\n",
    "    Output: out: audio_path: String path to MP3 audio file \n",
    "                 video_path: String path to MP4 video file\n",
    "    '''\n",
    "    fname = f\"{data_dir}/{fname}.mp4\"\n",
    "    yt = YouTube(yt_link)\n",
    "    video_path = yt.streams.filter(progressive=True, file_extension='mp4').order_by('resolution').desc().first().download(filename=fname)\n",
    "    audio_path = video_path.replace(\".mp4\", \".mp3\")\n",
    "    cmd = f\"ffmpeg -i {video_path} -vn {audio_path} -hide_banner -loglevel error\"\n",
    "    os.system(cmd)\n",
    "    return audio_path, video_path"
   ]
  },
  {
   "cell_type": "code",
   "execution_count": 86,
   "id": "c7e1884f-4b60-4bcf-b16d-5db685c0da09",
   "metadata": {},
   "outputs": [],
   "source": [
    "def chunk_text(text, chunk_size, overlap):\n",
    "    \"\"\"\n",
    "    Splits a text into chunks with a specified size and overlap.\n",
    "\n",
    "    Input:\n",
    "    text (str): The text to be chunked.\n",
    "    chunk_size (int): The size of each chunk in words.\n",
    "    overlap (int): The number of words to overlap between consecutive chunks.\n",
    "\n",
    "    Output:\n",
    "    list: A list of text chunks.\n",
    "    \"\"\"\n",
    "    words = text.split()\n",
    "    chunks = []\n",
    "    start = 0\n",
    "\n",
    "    while start < len(words):\n",
    "        end = start + chunk_size\n",
    "        chunk = ' '.join(words[start:end])\n",
    "        chunks.append(chunk)\n",
    "        start = end - overlap  # Overlap words for the next chunk\n",
    "\n",
    "        # Break the loop if we reach the end of the text\n",
    "        if end >= len(words):\n",
    "            break\n",
    "\n",
    "    return chunks"
   ]
  },
  {
   "cell_type": "code",
   "execution_count": 87,
   "id": "8eb714ed-c12d-43e6-800f-94b44d4cea2c",
   "metadata": {},
   "outputs": [],
   "source": [
    "def find_timestamps(json_data, sentence):\n",
    "    \"\"\"\n",
    "    Finds the start and end timestamps of a specific sentence within a given JSON data structure.\n",
    "\n",
    "    The function searches for the first 20 characters of the sentence at the beginning and the last 20 characters \n",
    "    at the end within the 'text' field of each JSON object. When the start of the sentence is found, it records \n",
    "    the 'start' timestamp. It continues to search for the end of the sentence, and when found, records the 'end' \n",
    "    timestamp of the last word that matches. The search is case-insensitive.\n",
    "\n",
    "    Parameters:\n",
    "    json_data (list of dicts): A list of dictionaries, each containing 'text' and 'words' fields, \n",
    "                               where 'words' is a list of dicts with 'word' and 'end' fields.\n",
    "    sentence (str): The sentence for which the start and end timestamps are to be found.\n",
    "\n",
    "    Returns:\n",
    "    tuple: A tuple (start_time, end_time) where both are timestamps. 'start_time' is the timestamp \n",
    "           when the sentence starts, and 'end_time' is the timestamp when the sentence ends. \n",
    "           Returns (None, None) if the sentence is not found.\n",
    "    \"\"\"\n",
    "    start_time = None\n",
    "    end_time = None\n",
    "    start = sentence[:20]\n",
    "    end = sentence[-20:]\n",
    "    #print(f\"start: {start}, end: {end}\")\n",
    "    for item in json_data:\n",
    "        if start.lower() in item['text'].lower():\n",
    "            #print(item['text'])\n",
    "            start_time = item['start']\n",
    "        if start_time and end.lower() in item['text'].lower():\n",
    "            #print(item['text'])\n",
    "            end_words = end.split(\" \")\n",
    "            end_w = end_words[-1]\n",
    "            item_words = item['words']\n",
    "            for i_w in item_words:\n",
    "                #print(f\"i_w = {i_w}\")\n",
    "                ip_w = i_w['word'].translate(str.maketrans('', '', string.punctuation))\n",
    "                end_w = end_w.translate(str.maketrans('', '', string.punctuation))\n",
    "                #print(f\"ip_w = {ip_w}\")\n",
    "                if end_w == ip_w:\n",
    "                    end_time = i_w['end']\n",
    "                    break\n",
    "        if start_time is not None and end_time is not None:\n",
    "            break\n",
    "\n",
    "    return start_time, end_time"
   ]
  },
  {
   "cell_type": "code",
   "execution_count": 116,
   "id": "87069639-c30c-44cc-a732-f776ee76b83d",
   "metadata": {},
   "outputs": [],
   "source": [
    "class Quote(BaseModel):\n",
    "    '''\n",
    "    A quote is a sentence or few senteces extracted verbatim from a long transcript.\n",
    "    Quotes are interesting because they may be insightful or funny or contrarian or a punchline.\n",
    "    Quotes are valuable because they create great social media engagement.\n",
    "    A quote is also independent & standalone and doesnt need context defined before it\n",
    "    '''\n",
    "    quote: str\n",
    "\n",
    "class Section(BaseModel):\n",
    "    '''\n",
    "    A Section summarizes a portion of the long transcript.\n",
    "    A transcript string is long and can contain many topics spoken at length in sequence.\n",
    "    A section represents the summary of a subset of the transcript\n",
    "    We have Top 5 Quotes can be part of a single Section. There can be fewer than 5 but no more than 5\n",
    "    There are usually many Sections in a transcript.\n",
    "    '''\n",
    "    section: str\n",
    "    quotes: List[Quote]\n",
    "\n",
    "class AllSections(BaseModel):\n",
    "    '''\n",
    "    All Sections found are part of a List\n",
    "    '''\n",
    "    sections : List[Section]\n",
    "    \n",
    "# class TranscriptClip(BaseModel):\n",
    "#     '''\n",
    "#     A Clip is a small sequential monologue or dialogue that is extracted from a long transcript which may be an interview or podcast.\n",
    "#     A Clip can qualify for short form standalone engaging content.\n",
    "#     '''\n",
    "#     #clip : Annotated[str, AfterValidator(clip_length_check)] = Field(description=\"An engaging clip extracted verbatim from a long transcript\")\n",
    "#     clip : str = Field(description=\"An engaging clip extracted verbatim from a long transcript\")\n",
    "    \n",
    "# class AllClips(BaseModel):\n",
    "#     '''\n",
    "#     A List of TranscriptClips\n",
    "#     '''\n",
    "#     clips: List[TranscriptClip]\n",
    "\n",
    "def get_quotes(transcript):\n",
    "    \"\"\"\n",
    "    Extracts engaging clips from a given transcript for social media content.\n",
    "\n",
    "    The function utilizes a GPT-4 model to analyze the transcript and extract relevant clips. \n",
    "\n",
    "    Parameters:\n",
    "    transcript (str): The long text input, such as a transcript of a talk, interview, or podcast.\n",
    "\n",
    "    Returns:\n",
    "    AllSections: A list of Sections found and many Quotes for each Section\n",
    "    \"\"\"\n",
    "    sections = o_client.chat.completions.create(\n",
    "      model=\"gpt-4-0125-preview\",\n",
    "      response_model= AllSections,\n",
    "      messages=[\n",
    "        {\"role\": \"user\", \"content\": transcript}\n",
    "      ],\n",
    "        temperature=0.0,\n",
    "        max_tokens=4095,\n",
    "        max_retries=3\n",
    "    )\n",
    "    return sections.model_dump_json()"
   ]
  },
  {
   "cell_type": "markdown",
   "id": "be5ace61-1e18-448c-ad7b-8361a5da90ae",
   "metadata": {},
   "source": [
    "# Start Here"
   ]
  },
  {
   "cell_type": "code",
   "execution_count": 117,
   "id": "8107a570-ea29-47a7-80cc-f6c65d0cf8ad",
   "metadata": {},
   "outputs": [],
   "source": [
    "# Step 1 : Generate a random name, and fetch a Youtube video's MP4 and MP3 with that name\n",
    "fname = random_choice()\n",
    "audio_path, video_path = get_youtube(\"https://youtu.be/0CDXJ6bMkMY?si=N4ecz3Ytl07rvJzz\", fname)"
   ]
  },
  {
   "cell_type": "code",
   "execution_count": 118,
   "id": "3458662d-0cfa-4203-99ee-2f496132763e",
   "metadata": {},
   "outputs": [],
   "source": [
    "#Step 2 : Upload the audio path to the storage bucket and get its transcript\n",
    "url = upload_to_bucket(f\"{fname}.mp3\", audio_path)\n",
    "out, concatenated_text = get_transcript(url, fname)"
   ]
  },
  {
   "cell_type": "code",
   "execution_count": 119,
   "id": "74e379a8-91e2-4b09-9d68-0093426df0d3",
   "metadata": {},
   "outputs": [],
   "source": [
    "# Step 3: Get Quotes from the transcript\n",
    "oai_response = get_quotes(concatenated_text)"
   ]
  },
  {
   "cell_type": "code",
   "execution_count": 120,
   "id": "6de0b025-36f1-4285-b901-72920ef9439c",
   "metadata": {},
   "outputs": [
    {
     "name": "stdout",
     "output_type": "stream",
     "text": [
      "{\"sections\":[{\"section\":\"Introduction\",\"quotes\":[{\"quote\":\"Hey, everyone. I'm David Heidemeyer Hanson. I work for 37signals. I'm also the creator of a web framework called Ruby on Rails. And I'm not going to talk about that at all today.\"},{\"quote\":\"What I am going to talk about, though, a little bit is how lonely I feel up here.\"},{\"quote\":\"We're not looking for VC funding. We're not hiring. We're profitable.\"},{\"quote\":\"Most of the talks this morning and most of the questions were, how do I pitch my VC? How do I do this? How do I do the other thing?\"},{\"quote\":\"I think there's too little talk among startups about just making money on their own.\"}]},{\"section\":\"The Secret to Making Money Online\",\"quotes\":[{\"quote\":\"So, this is going to be a talk on the secret of making money online.\"},{\"quote\":\"Having a price is really cool for getting profits.\"},{\"quote\":\"You have customers, they pay you money for the product or service, and you get profit.\"},{\"quote\":\"It's such a weird notion. It's almost too simple to work.\"},{\"quote\":\"But I've heard that over time, hundreds of years actually, that has been how most businesses have... made their money.\"}]},{\"section\":\"Different Ways to Have a Price\",\"quotes\":[{\"quote\":\"And the cool thing about having a price is there's so many different ways to have it.\"},{\"quote\":\"At 37signals, we have a really simple, dumb idea, which is just get people to sign up for a product. They pay us every month.\"},{\"quote\":\"You can also just do the traditional time-tested way of just selling your software.\"},{\"quote\":\"You can sign up for a retainer type scenario. You pay 20 bucks, which is what I do, and then you pay a little bit every time you send, or you can sign up for a subscription basis where you can send and receive faxes, and you pay on a monthly basis for that.\"},{\"quote\":\"It's not rocket surgery. I mean, it's really just that simple three-step idea. You have a great application, you ask money for it, if people like it, they'll pay, and you profit.\"}]},{\"section\":\"The Odds of Success\",\"quotes\":[{\"quote\":\"Just because you slap a price on something doesn't mean you'll have a successful business. Most businesses fail.\"},{\"quote\":\"The odds of you in here making the next Facebook or YouTube or Myspace are tiny.\"},{\"quote\":\"The odds of you actually just creating a product that a few people will like and pay you money for? Not that shabby.\"},{\"quote\":\"If you're building just a simple company, just trying to sustain a few people, what are the odds of that perhaps being a success? One to five? One to ten?\"},{\"quote\":\"The odds are a lot, lot worse than that.\"}]},{\"section\":\"Aiming for a Sustainable Business\",\"quotes\":[{\"quote\":\"A subscription service that has 2,000 customers, at 40 bucks a month, over 12 months, make a million dollars a year.\"},{\"quote\":\"It's not really that hard. It's still hard, but it's really not the same thing as trying to build that next one in a year theme Facebook or MySpace or whatever.\"},{\"quote\":\"You don't have to care about these big waves. You don't have to care about discovering the next great thing. You just have to solve a problem a little bit better than the other guys.\"},{\"quote\":\"I think there's too few people trying to make just a nice Italian restaurant in the web space.\"},{\"quote\":\"How do you go about finding these customers then? Because 2,000 people paying you money is still 2,000 people. That's a lot of people.\"}]},{\"section\":\"The Fortune 5 Million\",\"quotes\":[{\"quote\":\"We call this the Fortune 5 million.\"},{\"quote\":\"There's a ton of companies out there in the Fortune 5 million who have a lot of problems who are not currently being addressed.\"},{\"quote\":\"There's way more business at the low end than there is at the top end.\"},{\"quote\":\"When you're dealing and servicing people who are paying you $29 a month, $49 a month, you're not beholden to any one customer.\"},{\"quote\":\"You can innovate on behalf of a larger area of customers. I think you're going to be much, much happier for it.\"}]},{\"section\":\"The Lifestyle Business Myth\",\"quotes\":[{\"quote\":\"This notion that if you're doing so, you're making a lifestyle business. You're making a small mom and pop store, and you're just going to be those two old folks behind the counter, counting the pennies, and that's kind of the life.\"},{\"quote\":\"There's a lot of room in between of just enjoying life.\"},{\"quote\":\"Being able to run your own business without taking VC money, without taking all of these things that put you on a certain trajectory, can be really, really satisfying.\"},{\"quote\":\"Once you've got that aspect of your life taken care of, there's a whole lot of other things that start mattering a ton more.\"},{\"quote\":\"Craig Neumark has a great quote on this in an article I read. He said, we both know some people who own more than a million dollars and they don't seem any happier.\"}]},{\"section\":\"Building Ruby on Rails\",\"quotes\":[{\"quote\":\"Ruby on Rails is my attempt at just solving a simple problem, which is, I want to enjoy what I work with.\"},{\"quote\":\"The continued evolution of Ruby on Rails is picking up tons of these small optimizations, small of these simple problems.\"},{\"quote\":\"Ruby on Rails is really a small, simple solution. The first version was a thousand lines of code, created entirely by me, while working on Basecamp.\"},{\"quote\":\"I think having a day job as a framework designer is probably the worst thing you could ever do.\"},{\"quote\":\"Solving your own problems, great advice. I think it's the easiest way to kind of get somewhere.\"}]},{\"section\":\"Advice for Developers\",\"quotes\":[{\"quote\":\"Try working five hours a day. If you only had five hours a day to spend on something, you'd focus your time a lot better.\"},{\"quote\":\"We've just gone down to four-day work weeks. We're trying to work just 8 hours a day.\"},{\"quote\":\"I think people are just not willing to accept the fact that you can't in a creative endeavor as programming work for 14 hours a day.\"},{\"quote\":\"If you could just get 3 great hours in per day, you'd get a ton more done.\"},{\"quote\":\"Thank you.\"}]}]}\n"
     ]
    }
   ],
   "source": [
    "print(oai_response)"
   ]
  },
  {
   "cell_type": "code",
   "execution_count": null,
   "id": "bb10bc5f-8265-421f-bb60-26f17efc80a8",
   "metadata": {},
   "outputs": [],
   "source": [
    "# Step 4: Extract the clips\n",
    "clip_dict = json.loads(oai_response)\n",
    "clip_list = clip_dict[\"clips\"]"
   ]
  },
  {
   "cell_type": "code",
   "execution_count": null,
   "id": "d9edc1af-78d3-4459-a9ac-79ccdeb5699d",
   "metadata": {},
   "outputs": [],
   "source": [
    "len(clip_list)"
   ]
  },
  {
   "cell_type": "code",
   "execution_count": null,
   "id": "c98a14e3-588f-4800-a152-8c0ea1cfc6bb",
   "metadata": {},
   "outputs": [],
   "source": [
    "# Step 5: Clip it!\n",
    "count = 0\n",
    "for c in clip_list:\n",
    "    s_t , e_t = find_timestamps(out, c['clip'])\n",
    "    #print(f\"found {s_t} and {e_t}\\n\\n\")\n",
    "    if s_t and e_t:\n",
    "        cmd = f\"ffmpeg -y -ss {s_t} -to {e_t} -i {video_path}  -c copy {data_dir}/{fname}_clipped_{count}.mp4 -hide_banner -loglevel error\"\n",
    "        os.system(cmd)\n",
    "        count = count+1\n",
    "    else:\n",
    "        print(f\"Couldnt find {c['title']}\")"
   ]
  },
  {
   "cell_type": "code",
   "execution_count": null,
   "id": "189f107b-acb5-41c2-8538-bd408988a49d",
   "metadata": {},
   "outputs": [],
   "source": []
  }
 ],
 "metadata": {
  "kernelspec": {
   "display_name": "Python 3 (ipykernel)",
   "language": "python",
   "name": "python3"
  },
  "language_info": {
   "codemirror_mode": {
    "name": "ipython",
    "version": 3
   },
   "file_extension": ".py",
   "mimetype": "text/x-python",
   "name": "python",
   "nbconvert_exporter": "python",
   "pygments_lexer": "ipython3",
   "version": "3.11.7"
  }
 },
 "nbformat": 4,
 "nbformat_minor": 5
}
